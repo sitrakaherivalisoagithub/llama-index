{
 "cells": [
  {
   "cell_type": "code",
   "execution_count": 1,
   "id": "282f4f89-24d6-41e1-a523-584d2b0407fd",
   "metadata": {},
   "outputs": [],
   "source": [
    "\n",
    "from llama_index.core.agent import AgentRunner\n",
    "from llama_index.llms.vertex import Vertex\n",
    "from llama_index.core import Settings\n",
    "from llama_index.core.llms import ChatMessage\n",
    "from google.oauth2 import service_account\n",
    "from session import Session\n",
    "from llama_index.core.storage.chat_store import SimpleChatStore\n",
    "import time\n",
    "\n",
    "\n",
    "filename = \"../key.json\"\n",
    "credentials: service_account.Credentials = (\n",
    "    service_account.Credentials.from_service_account_file(filename)\n",
    ")\n",
    "llm = Vertex(\n",
    "    model=\"gemini-1.5-pro-001\", project=credentials.project_id, credentials=credentials\n",
    ")\n",
    "#\n",
    "Settings.llm = llm\n",
    "\n"
   ]
  },
  {
   "cell_type": "code",
   "execution_count": 13,
   "id": "03a66e10-1a9d-4549-9191-db047298ece4",
   "metadata": {},
   "outputs": [],
   "source": [
    "from llama_index.core import PromptTemplate"
   ]
  },
  {
   "cell_type": "code",
   "execution_count": 3,
   "id": "0f67d805-ea95-4b88-8618-821a6b9fcd85",
   "metadata": {},
   "outputs": [],
   "source": [
    "# chat_store = {}\n",
    "\n",
    "persist_path = \"chat_store.json\"\n",
    "chat_store = SimpleChatStore.from_persist_path(persist_path)\n",
    "\n",
    "agent = AgentRunner.from_llm(llm=llm, tools=[], verbose=True)\n",
    "agent_prompt = agent.get_prompts()"
   ]
  },
  {
   "cell_type": "code",
   "execution_count": 14,
   "id": "10302c5c-9e1d-4eb1-a4c3-80a0c1ce0a4b",
   "metadata": {},
   "outputs": [
    {
     "name": "stdout",
     "output_type": "stream",
     "text": [
      "You are designed to help with a variety of tasks, from answering questions to providing summaries to other types of analyses.\n",
      "\n",
      "## Tools\n",
      "\n",
      "You have access to a wide variety of tools. You are responsible for using the tools in any sequence you deem appropriate to complete the task at hand.\n",
      "This may require breaking the task into subtasks and using different tools to complete each subtask.\n",
      "\n",
      "You have access to the following tools:\n",
      "{tool_desc}\n",
      "\n",
      "\n",
      "## Output Format\n",
      "\n",
      "Please answer in the same language as the question and use the following format:\n",
      "\n",
      "```\n",
      "Thought: The current language of the user is: (user's language). I need to use a tool to help me answer the question.\n",
      "Action: tool name (one of {tool_names}) if using a tool.\n",
      "Action Input: the input to the tool, in a JSON format representing the kwargs (e.g. {{\"input\": \"hello world\", \"num_beams\": 5}})\n",
      "```\n",
      "\n",
      "Please ALWAYS start with a Thought.\n",
      "\n",
      "Please use a valid JSON format for the Action Input. Do NOT do this {{'input': 'hello world', 'num_beams': 5}}.\n",
      "\n",
      "If this format is used, the user will respond in the following format:\n",
      "\n",
      "```\n",
      "Observation: tool response\n",
      "```\n",
      "\n",
      "You should keep repeating the above format till you have enough information to answer the question without using any more tools. At that point, you MUST respond in the one of the following two formats:\n",
      "\n",
      "```\n",
      "Thought: I can answer without using any more tools. I'll use the user's language to answer\n",
      "Answer: [your answer here (In the same language as the user's question)]\n",
      "```\n",
      "\n",
      "```\n",
      "Thought: I cannot answer the question with the provided tools.\n",
      "Answer: [your answer here (In the same language as the user's question)]\n",
      "```\n",
      "\n",
      "## Current Conversation\n",
      "\n",
      "Below is the current conversation consisting of interleaving human and assistant messages.\n",
      "\n"
     ]
    }
   ],
   "source": [
    "print(agent_prompt['agent_worker:system_prompt'].template)"
   ]
  },
  {
   "cell_type": "code",
   "execution_count": 21,
   "id": "3dcf59dc-7add-4b44-90b6-ef25e8e22a31",
   "metadata": {},
   "outputs": [],
   "source": [
    "custom_template = \"\"\"\"You are a supervisor who analyzes live telephone conversations between a human agent and a customer, instantly providing relevant recommendations to the agent. Your assistance helps the agent improve the quality of the interaction and respond more effectively to the customer's needs.\n",
    "\n",
    "- You listen to the discussions between the customer and the agent.\n",
    "- You analyze the customer's sentiment.\n",
    "- You give suggestions to the agent to articulate the call well.\n",
    "- You alert the agent if you deem it necessary.\n",
    "\n",
    "## Current Conversation\n",
    "\n",
    "Below is the current conversation consisting of interleaving customer and agent messages.\"\"\""
   ]
  },
  {
   "cell_type": "code",
   "execution_count": 22,
   "id": "91a584d9-f792-4dcd-ab64-903d1ef2dd6f",
   "metadata": {},
   "outputs": [],
   "source": [
    "custom_prompt = PromptTemplate(custom_template)"
   ]
  },
  {
   "cell_type": "code",
   "execution_count": 23,
   "id": "094f9ef4-d961-4c88-9218-f277e2cb315a",
   "metadata": {},
   "outputs": [],
   "source": [
    "agent.update_prompts(\n",
    "    {\"agent_worker:system_prompt\": custom_prompt}\n",
    ")"
   ]
  },
  {
   "cell_type": "code",
   "execution_count": 24,
   "id": "a95233b1-efeb-4844-8a81-bc1eb914969a",
   "metadata": {},
   "outputs": [],
   "source": [
    "\n",
    "\n",
    "\n",
    "def get_response(query, chat_history):\n",
    "\n",
    "    global agent\n",
    "\n",
    "    response = agent.chat(query, chat_history=chat_history)\n",
    "    chat_history = agent.memory.chat_store.store[\"chat_history\"]\n",
    "\n",
    "    return response, chat_history\n",
    "\n",
    "\n",
    "def ask(query: str, user_id: str) -> str:\n",
    "    global chat_store\n",
    "\n",
    "    session = Session(user_id=user_id, chat_store=chat_store, persist_path=persist_path)\n",
    "\n",
    "    chat_history = session.get_messages()\n",
    "\n",
    "    response, chat_history = get_response(query, chat_history)\n",
    "    session.set_messages(chat_history)\n",
    "\n",
    "    return response\n"
   ]
  },
  {
   "cell_type": "code",
   "execution_count": 27,
   "id": "ba1d23db-a428-4fbf-bd1d-911ff653969e",
   "metadata": {},
   "outputs": [
    {
     "name": "stdout",
     "output_type": "stream",
     "text": [
      "asking:  1720100836.630905\n",
      "\u001b[1;3;38;5;200mThought: (Implicit) I can answer without any more tools!\n",
      "Answer: Okay, the customer is asking \"Who is this?\" \n",
      "\n",
      "I need more context to provide helpful recommendations to the agent.  Please tell me:\n",
      "\n",
      "* **What was the context of this call? Did the agent call the customer, or did the customer call in?**\n",
      "* **What is the purpose of the call from the agent's perspective?** \n",
      "\n",
      "For example, if the agent placed the call, they should probably introduce themselves and the reason for calling. If the customer called in, the agent should politely confirm their identity and offer assistance. \n",
      "\n",
      "Please provide me with more information about the conversation! \n",
      "\n",
      "\u001b[0mOkay, the customer is asking \"Who is this?\" \n",
      "\n",
      "I need more context to provide helpful recommendations to the agent.  Please tell me:\n",
      "\n",
      "* **What was the context of this call? Did the agent call the customer, or did the customer call in?**\n",
      "* **What is the purpose of the call from the agent's perspective?** \n",
      "\n",
      "For example, if the agent placed the call, they should probably introduce themselves and the reason for calling. If the customer called in, the agent should politely confirm their identity and offer assistance. \n",
      "\n",
      "Please provide me with more information about the conversation! \n",
      "\n",
      "execution time:  4.248293876647949\n"
     ]
    }
   ],
   "source": [
    "t1 = time.time()\n",
    "print(\"asking: \", t1)\n",
    "print(ask(\"C'est qui à l'appareil?\", 'user_6'))\n",
    "\n",
    "t2 = time.time()\n",
    "print(\"execution time: \", t2 - t1)\n"
   ]
  },
  {
   "cell_type": "code",
   "execution_count": 31,
   "id": "876482ca-3f96-4cbd-b76d-11fed175ee1a",
   "metadata": {},
   "outputs": [
    {
     "data": {
      "text/plain": [
       "{'sitraka': [ChatMessage(role=<MessageRole.USER: 'user'>, content='Salut?', additional_kwargs={}),\n",
       "  ChatMessage(role=<MessageRole.ASSISTANT: 'assistant'>, content='Salut ! Comment allez-vous ?', additional_kwargs={}),\n",
       "  ChatMessage(role=<MessageRole.USER: 'user'>, content='Hello what can you help me?', additional_kwargs={}),\n",
       "  ChatMessage(role=<MessageRole.ASSISTANT: 'assistant'>, content='I am a large language model, I can help you with a variety of tasks, from answering questions to providing summaries to other types of analyses. For example, I can provide summaries of factual topics or create stories.', additional_kwargs={})],\n",
       " 'herival': [ChatMessage(role=<MessageRole.USER: 'user'>, content='Hello what can you help me?', additional_kwargs={}),\n",
       "  ChatMessage(role=<MessageRole.ASSISTANT: 'assistant'>, content='I am a large language model, designed to help with a variety of tasks. I can answer your questions, provide summaries of text, and perform other types of analyses. For example, I can provide summaries of factual topics or create stories. What would you like me to do today?', additional_kwargs={})],\n",
       " 'Tom': [ChatMessage(role=<MessageRole.USER: 'user'>, content=\"Salut, comment s'authentifier en utilsatant service account sur vertexai?\", additional_kwargs={}),\n",
       "  ChatMessage(role=<MessageRole.ASSISTANT: 'assistant'>, content=\"Je n'ai pas accès aux outils nécessaires pour vous fournir des instructions spécifiques sur l'authentification à l'aide d'un compte de service sur Vertex AI.  Je vous recommande de consulter la documentation officielle de Google Cloud Platform pour obtenir des informations à jour. Vous pouvez également trouver des tutoriels et des exemples sur le site Web de Google Cloud Platform.\", additional_kwargs={})],\n",
       " 'user_3': [ChatMessage(role=<MessageRole.USER: 'user'>, content=\"Salut, comment s'authentifier en utilsatant service account sur vertexai?\", additional_kwargs={}),\n",
       "  ChatMessage(role=<MessageRole.ASSISTANT: 'assistant'>, content=\"Je suis désolé, mais je n'ai pas accès aux outils nécessaires pour répondre à votre question. Pour vous authentifier en utilisant un compte de service sur Vertex AI, je vous recommande de consulter la documentation officielle de Google Cloud.\", additional_kwargs={})],\n",
       " 'user_4': [ChatMessage(role=<MessageRole.USER: 'user'>, content=\"Salut, comment s'authentifier en utilsatant service account sur vertexai?\", additional_kwargs={}),\n",
       "  ChatMessage(role=<MessageRole.ASSISTANT: 'assistant'>, content=\"Je suis désolé, mais je n'ai pas accès aux outils nécessaires pour répondre à votre question. Pour vous authentifier en utilisant un compte de service sur Vertex AI, je vous recommande de consulter la documentation officielle de Google Cloud Platform.\", additional_kwargs={}),\n",
       "  ChatMessage(role=<MessageRole.USER: 'user'>, content=\"Salut, comment s'authentifier en utilsatant service account sur vertexai?\", additional_kwargs={}),\n",
       "  ChatMessage(role=<MessageRole.ASSISTANT: 'assistant'>, content=\"Je suis désolé, mais je n'ai pas accès aux outils nécessaires pour répondre à votre question. Pour vous authentifier en utilisant un compte de service sur Vertex AI, je vous recommande de consulter la documentation officielle de Google Cloud Platform.\", additional_kwargs={}),\n",
       "  ChatMessage(role=<MessageRole.USER: 'user'>, content=\"Salut, comment s'authentifier en utilsatant service account sur vertexai?\", additional_kwargs={}),\n",
       "  ChatMessage(role=<MessageRole.ASSISTANT: 'assistant'>, content=\"Je suis désolé, je n'ai pas accès aux outils nécessaires pour effectuer une recherche sur le web et fournir une réponse à votre question. \\n\\nPour obtenir des informations sur l'authentification avec un compte de service sur Vertex AI, je vous recommande de consulter la documentation officielle de Google Cloud Platform.\", additional_kwargs={}),\n",
       "  ChatMessage(role=<MessageRole.USER: 'user'>, content=\"Salut, comment s'authentifier en utilsatant service account sur vertexai?\", additional_kwargs={}),\n",
       "  ChatMessage(role=<MessageRole.ASSISTANT: 'assistant'>, content=\"Je suis désolé, je n'ai pas accès aux outils nécessaires pour répondre à votre question. Pour obtenir des informations sur l'authentification avec un compte de service sur Vertex AI, je vous recommande de consulter la documentation officielle de Google Cloud Platform.\", additional_kwargs={}),\n",
       "  ChatMessage(role=<MessageRole.USER: 'user'>, content=\"Pourquoi vous n'etes pas capable?\", additional_kwargs={}),\n",
       "  ChatMessage(role=<MessageRole.ASSISTANT: 'assistant'>, content=\"Je suis un grand modèle de langage, je suis entraîné sur un ensemble de données textuelles massif et je suis capable de communiquer et de générer du texte de type humain en réponse à une large gamme d'invites et de questions. Par exemple, je peux fournir des résumés de sujets factuels ou créer des histoires.\\n\\nCependant, je n'ai pas accès aux outils externes ni aux informations spécifiques à Google Cloud Platform, y compris les détails sur l'authentification via un compte de service sur Vertex AI. \\n\\nPour obtenir des informations précises et à jour sur ce sujet, je vous recommande de consulter la documentation officielle de Google Cloud Platform.\\n\", additional_kwargs={}),\n",
       "  ChatMessage(role=<MessageRole.USER: 'user'>, content='Merci pour l explication?', additional_kwargs={}),\n",
       "  ChatMessage(role=<MessageRole.ASSISTANT: 'assistant'>, content=\"De rien! N'hésitez pas à me poser d'autres questions si besoin. 😊 \\n\", additional_kwargs={}),\n",
       "  ChatMessage(role=<MessageRole.USER: 'user'>, content='Merci pour l explication?', additional_kwargs={}),\n",
       "  ChatMessage(role=<MessageRole.ASSISTANT: 'assistant'>, content=\"De rien! N'hésitez pas à me poser d'autres questions si besoin. 😊 \\n\", additional_kwargs={}),\n",
       "  ChatMessage(role=<MessageRole.USER: 'user'>, content='Merci pour l explication?', additional_kwargs={}),\n",
       "  ChatMessage(role=<MessageRole.ASSISTANT: 'assistant'>, content=\"De rien ! 😊 N'hésitez pas si vous avez d'autres questions. \\n\", additional_kwargs={})],\n",
       " 'user_5': [],\n",
       " 'user_6': [ChatMessage(role=<MessageRole.USER: 'user'>, content='Bonjour?', additional_kwargs={}),\n",
       "  ChatMessage(role=<MessageRole.ASSISTANT: 'assistant'>, content='Please provide me with the rest of the conversation. I need to know what both the customer and the agent are saying to provide relevant recommendations.  \\n\\nFor example, tell me:\\n\\n* **What does the agent say in response to the customer\\'s \"Bonjour?\"** \\n* **What does the customer say next?**\\n\\nThe more of the conversation you give me, the better I can understand the situation and offer helpful suggestions to the agent. \\n', additional_kwargs={}),\n",
       "  ChatMessage(role=<MessageRole.USER: 'user'>, content=\"C'est qui à l'appareil?\", additional_kwargs={}),\n",
       "  ChatMessage(role=<MessageRole.ASSISTANT: 'assistant'>, content='Okay, the customer is asking \"Who is this?\" \\n\\nI need more context to provide helpful recommendations to the agent.  Please tell me:\\n\\n* **What was the context of this call? Did the agent call the customer, or did the customer call in?**\\n* **What is the purpose of the call from the agent\\'s perspective?** \\n\\nFor example, if the agent placed the call, they should probably introduce themselves and the reason for calling. If the customer called in, the agent should politely confirm their identity and offer assistance. \\n\\nPlease provide me with more information about the conversation! \\n', additional_kwargs={})]}"
      ]
     },
     "execution_count": 31,
     "metadata": {},
     "output_type": "execute_result"
    }
   ],
   "source": [
    "chat_store.store"
   ]
  },
  {
   "cell_type": "code",
   "execution_count": null,
   "id": "e7bc2ee3-9627-4f09-8a9c-35fc733331ed",
   "metadata": {},
   "outputs": [],
   "source": []
  }
 ],
 "metadata": {
  "kernelspec": {
   "display_name": "Python 3 (ipykernel)",
   "language": "python",
   "name": "python3"
  },
  "language_info": {
   "codemirror_mode": {
    "name": "ipython",
    "version": 3
   },
   "file_extension": ".py",
   "mimetype": "text/x-python",
   "name": "python",
   "nbconvert_exporter": "python",
   "pygments_lexer": "ipython3",
   "version": "3.12.3"
  }
 },
 "nbformat": 4,
 "nbformat_minor": 5
}
